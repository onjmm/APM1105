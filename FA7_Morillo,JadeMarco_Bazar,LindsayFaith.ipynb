{
 "cells": [
  {
   "cell_type": "code",
   "execution_count": 14,
   "id": "ec097084",
   "metadata": {},
   "outputs": [
    {
     "name": "stdout",
     "output_type": "stream",
     "text": [
      "The circle is centered at (150, 100)  and has a radius of 75\n"
     ]
    }
   ],
   "source": [
    "class Circle:\n",
    "    def __init__(self, x, y, rad):\n",
    "        self.x = x\n",
    "        self.y = y\n",
    "        self.rad = rad\n",
    "        \n",
    "circ = Circle(150, 100, 75)\n",
    "center = (circ.x,circ.y)\n",
    "    \n",
    "print(\"The circle is centered at\", center, \" and has a radius of\", circ.rad)"
   ]
  },
  {
   "cell_type": "code",
   "execution_count": 29,
   "id": "6cd7360e",
   "metadata": {},
   "outputs": [
    {
     "name": "stdout",
     "output_type": "stream",
     "text": [
      "Enter point values!\n",
      "input value of x: 10\n",
      "input value of y: 10\n"
     ]
    },
    {
     "data": {
      "text/plain": [
       "False"
      ]
     },
     "execution_count": 29,
     "metadata": {},
     "output_type": "execute_result"
    }
   ],
   "source": [
    "def point_in_circle(x1, y1):\n",
    "    pc=Circle(150, 100, 75)\n",
    "    if((x1-circ.x)**2)+((y1-circ.y)**2)<=circ.rad**2:\n",
    "        return True\n",
    "    else:\n",
    "        return False\n",
    "\n",
    "print(\"Enter point values!\")\n",
    "x1=int(input(\"input value of x: \"))\n",
    "y1=int(input(\"input value of y: \"))\n",
    "\n",
    "point_in_circle(x1, y1)"
   ]
  },
  {
   "cell_type": "code",
   "execution_count": 46,
   "id": "792e08e3",
   "metadata": {},
   "outputs": [
    {
     "name": "stdout",
     "output_type": "stream",
     "text": [
      "Enter point values!\n",
      "input x value for top side: 100\n",
      "input y value for left side: 250\n",
      "input x value for bottom side: 200\n",
      "input y value for right side: 50\n"
     ]
    },
    {
     "data": {
      "text/plain": [
       "False"
      ]
     },
     "execution_count": 46,
     "metadata": {},
     "output_type": "execute_result"
    }
   ],
   "source": [
    "def rect_in_circle(tx,ly,bx,ty):\n",
    "    pc = Circle(150, 100, 75)\n",
    "    \n",
    "    if((tx-circ.x)**2)+((ly-circ.y)**2)<=circ.rad**2:\n",
    "        if((tx-circ.x)**2)+((ry-circ.y)**2)<=circ.rad**2:\n",
    "            if((bx-circ.x)**2)+((ly-circ.y)**2)<=circ.rad**2:\n",
    "                if((bx-circ.x)**2)+((ry-circ.y)**2)<=circ.rad**2:\n",
    "                    return True\n",
    "                else:\n",
    "                    return False\n",
    "            else:\n",
    "                return False\n",
    "        else:\n",
    "            return False\n",
    "    else:\n",
    "        return False\n",
    "    \n",
    "print(\"Enter point values!\")\n",
    "tx=int(input(\"input x value for top side: \"))\n",
    "ly=int(input(\"input y value for left side: \"))\n",
    "bx=int(input(\"input x value for bottom side: \"))\n",
    "ry=int(input(\"input y value for right side: \"))\n",
    "\n",
    "rect_in_circle(tx,ly,bx,ry)"
   ]
  },
  {
   "cell_type": "code",
   "execution_count": 64,
   "id": "d4db9df6",
   "metadata": {},
   "outputs": [
    {
     "name": "stdout",
     "output_type": "stream",
     "text": [
      "Enter point values!\n",
      "input x value for top side: 100\n",
      "input y value for left side: 200\n",
      "input x value for bottom side: 250\n",
      "input y value for right side: 50\n"
     ]
    },
    {
     "data": {
      "text/plain": [
       "True"
      ]
     },
     "execution_count": 64,
     "metadata": {},
     "output_type": "execute_result"
    }
   ],
   "source": [
    "def rect_circle_overlap(tx,ly,bx,ry):\n",
    "    pc = Circle(150, 100, 75)\n",
    "    \n",
    "    if(((tx-circ.x)**2)+((ly-circ.y)**2)<=circ.rad**2) or (((tx-circ.x)**2)+((ry-circ.y)**2)<=circ.rad**2) or (((bx-circ.x)**2)+((ly-circ.y)**2)<=circ.rad**2) or (((bx-circ.x)**2)+((ry-circ.y)**2)<=circ.rad**2):\n",
    "        return True\n",
    "    else:\n",
    "        return False\n",
    "    \n",
    "print(\"Enter point values!\")\n",
    "tx=int(input(\"input x value for top side: \"))\n",
    "ly=int(input(\"input y value for left side: \"))\n",
    "bx=int(input(\"input x value for bottom side: \"))\n",
    "ry=int(input(\"input y value for right side: \"))\n",
    "\n",
    "rect_in_circle(tx,ly,bx,ry)"
   ]
  },
  {
   "cell_type": "code",
   "execution_count": 63,
   "id": "5793240e",
   "metadata": {},
   "outputs": [
    {
     "name": "stdout",
     "output_type": "stream",
     "text": [
      "Enter point values!\n",
      "input x value for top side: 100\n",
      "input y value for left side: 150\n",
      "input x value for bottom side: 150\n",
      "input y value for right side: 50\n"
     ]
    },
    {
     "data": {
      "text/plain": [
       "True"
      ]
     },
     "execution_count": 63,
     "metadata": {},
     "output_type": "execute_result"
    }
   ],
   "source": [
    "def rect_circle_overlap_more_challenging_version(tx,ly,bx,ty):\n",
    "    pc = Circle(150, 100, 75)\n",
    "    \n",
    "    if(((tx-circ.x)**2)+circ.y<=circ.rad**2) or (((ly-circ.y)**2)+circ.x<=circ.rad**2) or (((bx-circ.x)**2)+circ.y<=circ.rad**2) or (((ry-circ.y)**2)+circ.x<=circ.rad**2):\n",
    "        return True\n",
    "    else:\n",
    "        return False\n",
    "    \n",
    "print(\"Enter point values!\")\n",
    "tx=int(input(\"input x value for top side: \"))\n",
    "ly=int(input(\"input y value for left side: \"))\n",
    "bx=int(input(\"input x value for bottom side: \"))\n",
    "ry=int(input(\"input y value for right side: \"))\n",
    "\n",
    "rect_in_circle(tx,ly,bx,ry)"
   ]
  },
  {
   "cell_type": "code",
   "execution_count": null,
   "id": "60c8a110",
   "metadata": {},
   "outputs": [],
   "source": []
  }
 ],
 "metadata": {
  "kernelspec": {
   "display_name": "Python 3 (ipykernel)",
   "language": "python",
   "name": "python3"
  },
  "language_info": {
   "codemirror_mode": {
    "name": "ipython",
    "version": 3
   },
   "file_extension": ".py",
   "mimetype": "text/x-python",
   "name": "python",
   "nbconvert_exporter": "python",
   "pygments_lexer": "ipython3",
   "version": "3.9.13"
  }
 },
 "nbformat": 4,
 "nbformat_minor": 5
}
