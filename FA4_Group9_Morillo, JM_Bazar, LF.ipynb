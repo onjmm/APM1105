{
 "cells": [
  {
   "cell_type": "code",
   "execution_count": 8,
   "metadata": {
    "scrolled": true
   },
   "outputs": [
    {
     "name": "stdout",
     "output_type": "stream",
     "text": [
      "Evaluation of Ackermann function of (2,4)\n",
      "11\n",
      "Enter value of m: 2\n",
      "Enter value of n: 4\n",
      "Evaluation of Ackermann function of (m,n)\n",
      "11\n"
     ]
    }
   ],
   "source": [
    "def ack(m, n):\n",
    "    if m == 0:\n",
    "        return n + 1\n",
    "    if n == 0:\n",
    "        return ack(m - 1, 1)\n",
    "    return ack(m-1,ack(m,n-1))\n",
    " \n",
    "print(\"Evaluation of Ackermann function of (2,4)\")\n",
    "print(ack(2, 4))\n",
    "\n",
    "m = int(input(\"Enter value of m: \"))\n",
    "n = int(input(\"Enter value of n: \"))\n",
    "print(\"Evaluation of Ackermann function of (m,n)\")\n",
    "print(ack(m,n))"
   ]
  },
  {
   "cell_type": "code",
   "execution_count": 9,
   "metadata": {},
   "outputs": [
    {
     "name": "stdout",
     "output_type": "stream",
     "text": [
      "If a=4 and b=2\n",
      "True\n",
      "If a=8 and b=2\n",
      "True\n",
      "If a=1000 and b=10\n",
      "False\n",
      "If a=2.25 and b=1.5\n",
      "True\n",
      "\n",
      "\n",
      "Enter value of a: 2.25\n",
      "Enter value of b: 1.5\n",
      "True\n"
     ]
    }
   ],
   "source": [
    "import math\n",
    "def is_power(a,b):\n",
    "    c = math.log(a,b) % 1\n",
    "    \n",
    "    if c == 0:\n",
    "        return True\n",
    "    else:\n",
    "        return False\n",
    "print(\"If a=4 and b=2\")\n",
    "print(is_power(4, 2))\n",
    "print(\"If a=8 and b=2\")\n",
    "print(is_power(8, 2))\n",
    "print(\"If a=1000 and b=10\")\n",
    "print(is_power(12, 2))\n",
    "print(\"If a=2.25 and b=1.5\")\n",
    "print(is_power(2.25, 1.5))\n",
    "\n",
    "print(\"\\n\")    \n",
    "a = float(input(\"Enter value of a: \"))\n",
    "b = float(input(\"Enter value of b: \"))\n",
    "print(is_power(a, b))"
   ]
  },
  {
   "cell_type": "code",
   "execution_count": null,
   "metadata": {},
   "outputs": [],
   "source": []
  }
 ],
 "metadata": {
  "kernelspec": {
   "display_name": "Python 3",
   "language": "python",
   "name": "python3"
  },
  "language_info": {
   "codemirror_mode": {
    "name": "ipython",
    "version": 3
   },
   "file_extension": ".py",
   "mimetype": "text/x-python",
   "name": "python",
   "nbconvert_exporter": "python",
   "pygments_lexer": "ipython3",
   "version": "3.7.0"
  }
 },
 "nbformat": 4,
 "nbformat_minor": 2
}
