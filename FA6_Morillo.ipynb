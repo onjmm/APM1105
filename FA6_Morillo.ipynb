{
 "cells": [
  {
   "cell_type": "code",
   "execution_count": 39,
   "id": "cc658c98",
   "metadata": {},
   "outputs": [
    {
     "name": "stdout",
     "output_type": "stream",
     "text": [
      "Enter value of base: 90\n",
      "Enter value of exponent: 90\n",
      "Answer = 76177348045866392339289727720615561750424801402395196724001565744957137343033038019601000000000000000000000000000000000000000000000000000000000000000000000000000000000000000000\n",
      "Rendering time: 0.0000000000s\n",
      "\n",
      "Wall time: 1.68 s\n"
     ]
    }
   ],
   "source": [
    "%%time\n",
    "#1 iteration function\n",
    "import time\n",
    "base = int(input(\"Enter value of base: \"))\n",
    "exponent = int(input(\"Enter value of exponent: \"))\n",
    "start_time = time.time()\n",
    "result = 1\n",
    "\n",
    "for exponent in range(exponent, 0, -1):\n",
    "    result *= base\n",
    "    end_time = time.time()\n",
    "\n",
    "print(\"Answer = \" + str(result))\n",
    "print(f\"Rendering time: {end_time - start_time:.10f}s\\n\")"
   ]
  },
  {
   "cell_type": "code",
   "execution_count": 38,
   "id": "c1dacc84",
   "metadata": {},
   "outputs": [
    {
     "name": "stdout",
     "output_type": "stream",
     "text": [
      "Enter value of base: 90\n",
      "Enter value of exponent: 90\n",
      "Is equal to: 7.617734804586648e+175\n",
      "Rendering time: 0.00488638877868652344s\n",
      "\n",
      "Wall time: 2.8 s\n"
     ]
    }
   ],
   "source": [
    "%%time\n",
    "#2 recursive function\n",
    "import time\n",
    "def recursive_exponent(e,b):\n",
    "    if b==0:\n",
    "        return 1\n",
    "    else:\n",
    "        return e * recursive_exponent(e, b-1)\n",
    "\n",
    "base = float(input(\"Enter value of base: \"))\n",
    "exponent = float(input(\"Enter value of exponent: \"))\n",
    "start_time = time.time()\n",
    "result = recursive_exponent(base, exponent)\n",
    "end_time = time.time()\n",
    "\n",
    "print(\"Is equal to:\", result)\n",
    "print(f\"Rendering time: {end_time - start_time:.10f}s\\n\")"
   ]
  },
  {
   "cell_type": "code",
   "execution_count": null,
   "id": "c80af730",
   "metadata": {},
   "outputs": [],
   "source": [
    "# iteration is faster than recursive. "
   ]
  },
  {
   "cell_type": "code",
   "execution_count": 49,
   "id": "4294390c",
   "metadata": {},
   "outputs": [
    {
     "name": "stdout",
     "output_type": "stream",
     "text": [
      "Enter a positive integer n: 5\n"
     ]
    }
   ],
   "source": [
    "import time \n",
    "#2 iteration function\n",
    "n = int(input(\"Enter a positive integer n: \"))\n",
    "def iteration_sum(n):\n",
    "    start_time = time.time()\n",
    "    result = 0\n",
    "    for x in range(n+1):\n",
    "        result += 2**x\n",
    "    end_time = time.time()\n",
    "    print(\"The sum is: \")\n",
    "    print(\"Rendering time: {end_time - start_time:.8f}s\\n\")"
   ]
  },
  {
   "cell_type": "code",
   "execution_count": 48,
   "id": "5e05ff7b",
   "metadata": {},
   "outputs": [
    {
     "name": "stdout",
     "output_type": "stream",
     "text": [
      "Enter value of base: 4\n",
      "The sum is:  30\n"
     ]
    }
   ],
   "source": [
    "#2 recursive function\n",
    "def recursive_sum(end, power = 2, start = 1):\n",
    "  return sum([(i) ** power for i in range(start, end + 1)])\n",
    "end = int(input(\"Enter value of base: \"))\n",
    "print(\"The sum is: \",recursive_sum(end))"
   ]
  },
  {
   "cell_type": "code",
   "execution_count": null,
   "id": "e7ce1ded",
   "metadata": {},
   "outputs": [],
   "source": [
    "# I was only able to create a code for recursive"
   ]
  }
 ],
 "metadata": {
  "kernelspec": {
   "display_name": "Python 3 (ipykernel)",
   "language": "python",
   "name": "python3"
  },
  "language_info": {
   "codemirror_mode": {
    "name": "ipython",
    "version": 3
   },
   "file_extension": ".py",
   "mimetype": "text/x-python",
   "name": "python",
   "nbconvert_exporter": "python",
   "pygments_lexer": "ipython3",
   "version": "3.9.13"
  }
 },
 "nbformat": 4,
 "nbformat_minor": 5
}
