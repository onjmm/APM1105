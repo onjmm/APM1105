{
 "cells": [
  {
   "cell_type": "code",
   "execution_count": 2,
   "id": "659350d6",
   "metadata": {},
   "outputs": [
    {
     "name": "stdout",
     "output_type": "stream",
     "text": [
      "The numbers are:  [2, 3, 4, 5, 7, 8, 10, -5]\n",
      "The product is:  -336000\n"
     ]
    }
   ],
   "source": [
    "import numpy\n",
    "def multiply_numbers(list):\n",
    "    return numpy.prod(list)\n",
    "num_list = [2,3,4,5,7,8,10,-5]\n",
    "print('The numbers are: ', num_list)\n",
    "print(\"The product is: \", multiply_numbers(num_list))"
   ]
  },
  {
   "cell_type": "code",
   "execution_count": 1,
   "id": "2f653489",
   "metadata": {},
   "outputs": [
    {
     "name": "stdout",
     "output_type": "stream",
     "text": [
      "8 O O O O 8 O O O O 8 O O O O 8 O O O O 8\n",
      "0         0         0         0         0         \n",
      "0         0         0         0         0         \n",
      "0         0         0         0         0         \n",
      "0         0         0         0         0         \n",
      "8 O O O O 8 O O O O 8 O O O O 8 O O O O 8\n",
      "0         0         0         0         0         \n",
      "0         0         0         0         0         \n",
      "0         0         0         0         0         \n",
      "0         0         0         0         0         \n",
      "8 O O O O 8 O O O O 8 O O O O 8 O O O O 8\n",
      "0         0         0         0         0         \n",
      "0         0         0         0         0         \n",
      "0         0         0         0         0         \n",
      "0         0         0         0         0         \n",
      "8 O O O O 8 O O O O 8 O O O O 8 O O O O 8\n",
      "0         0         0         0         0         \n",
      "0         0         0         0         0         \n",
      "0         0         0         0         0         \n",
      "0         0         0         0         0         \n",
      "8 O O O O 8 O O O O 8 O O O O 8 O O O O 8\n"
     ]
    }
   ],
   "source": [
    "def grid(r, c):\n",
    "    row = ('8 O O O O ' * c + '8')\n",
    "    column = ('\\n' + '0         ' * (c+1))\n",
    "    return ((row + 4 * column) + '\\n') * r + row\n",
    "\n",
    "print(grid(4,4))"
   ]
  },
  {
   "cell_type": "code",
   "execution_count": null,
   "id": "72434aa8",
   "metadata": {},
   "outputs": [],
   "source": []
  }
 ],
 "metadata": {
  "kernelspec": {
   "display_name": "Python 3 (ipykernel)",
   "language": "python",
   "name": "python3"
  },
  "language_info": {
   "codemirror_mode": {
    "name": "ipython",
    "version": 3
   },
   "file_extension": ".py",
   "mimetype": "text/x-python",
   "name": "python",
   "nbconvert_exporter": "python",
   "pygments_lexer": "ipython3",
   "version": "3.9.13"
  }
 },
 "nbformat": 4,
 "nbformat_minor": 5
}
