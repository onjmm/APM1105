{
 "cells": [
  {
   "cell_type": "code",
   "execution_count": 1,
   "metadata": {},
   "outputs": [],
   "source": [
    "import numpy as np\n",
    "import scipy as sp\n",
    "import pandas as pd\n",
    "import matplotlib as mpl\n",
    "import seaborn as sns"
   ]
  },
  {
   "cell_type": "code",
   "execution_count": 2,
   "metadata": {},
   "outputs": [],
   "source": [
    "df = pd.read_csv(\"https://raw.githubusercontent.com/Apress/data-analysis-and-visualization-using-python/master/Ch07/Salaries.csv\")"
   ]
  },
  {
   "cell_type": "code",
   "execution_count": 13,
   "metadata": {},
   "outputs": [
    {
     "name": "stdout",
     "output_type": "stream",
     "text": [
      "Descriptive Statistics\n",
      "<bound method DataFrame.transpose of                                  Salary                             \n",
      "rank                          AssocProf      AsstProf           Prof\n",
      "Valid                         13.000000     19.000000      46.000000\n",
      "Mean                       91786.230769  81362.789474  123624.804348\n",
      "Std. Deviation             18571.183714   9381.245301   24850.287853\n",
      "Minimum                    62884.000000  63100.000000   57800.000000\n",
      "Maximum                    74830.000000  74096.000000  105112.500000\n",
      "25th percentile           103613.000000  78500.000000  123321.500000\n",
      "50th percentile           103613.000000  78500.000000  123321.500000\n",
      "75th percentile           119800.000000  97032.000000  186960.000000\n",
      "Missing                        0.000000      0.000000       0.000000\n",
      "Median                    103613.000000  78500.000000  123321.500000\n",
      "Std                        18571.183714   9381.245301   24850.287853\n",
      "Std. Error of Mean          5150.719625   2152.205275    3663.975052\n",
      "Coefficient of variation       0.202331      0.115301       0.201014\n",
      "Skewness                      -0.029653      0.004948       0.007330\n",
      "Std. Error of Skewness         0.616336      0.523767       0.350096\n",
      "Kurtosis                      -1.614149     -1.011154       0.201339\n",
      "Std. Error of Kurtosis        -0.316561     -0.164031       0.020991\n",
      "10th percentile            71512.000000  72500.000000   93675.000000\n",
      "20th percentile            73912.000000  73300.000000  103275.000000\n",
      "30th percentile            76432.000000  74832.800000  108473.000000\n",
      "40th percentile            80528.000000  77100.000000  116450.000000\n",
      "60th percentile           103798.800000  84045.000000  127512.000000\n",
      "70th percentile           104213.200000  89800.000000  135889.000000\n",
      "80th percentile           106021.600000  91580.000000  148750.000000\n",
      "90th percentile           109121.600000  92000.000000  154750.000000>\n"
     ]
    }
   ],
   "source": [
    "pd.set_option('display.max_columns', None)\n",
    "pd.set_option('display.width', 1000)\n",
    "\n",
    "desc_stat = df.groupby('rank')['salary'].describe()[['count', 'mean', 'std', 'min', '25%', '50%', '75%', 'max']].T\n",
    "desc_stat.columns = pd.MultiIndex.from_product([['Salary'], desc_stat.columns])\n",
    "desc_stat.index = pd.Index(['Valid','Mean','Std. Deviation','Minimum','Maximum','25th percentile', '50th percentile', '75th percentile', ])\n",
    "\n",
    "\n",
    "std = df.groupby('rank')['salary'].std()\n",
    "desc_stat.loc['Missing'] = np.zeros(len(df['rank'].unique()))\n",
    "desc_stat.loc['Median'] = df.groupby('rank')['salary'].median().values\n",
    "desc_stat.loc['Std'] = std.values\n",
    "desc_stat.loc['Std. Error of Mean'] = std.values/np.sqrt(desc_stat.loc['Valid'].values)\n",
    "desc_stat.loc['Coefficient of variation'] = std.values/desc_stat.loc['Mean'].values\n",
    "desc_stat.loc['Skewness'] = df.groupby('rank')['salary'].apply(lambda x: x.skew() / np.sqrt( 2* x.count())).values\n",
    "n = df.groupby('rank')['salary'].count()\n",
    "desc_stat.loc['Std. Error of Skewness'] = np.sqrt(6*n*(n-1)/((n-2)*(n+1)*(n+3))).values\n",
    "desc_stat.loc['Kurtosis'] = df.groupby('rank')['salary'].apply(lambda x: x.kurtosis()).values\n",
    "desc_stat.loc['Std. Error of Kurtosis'] = df.groupby('rank')['salary'].apply(lambda x: x.kurtosis() / np.sqrt(2* x.count())).values\n",
    "desc_stat.loc['10th percentile'] = df.groupby('rank')['salary'].apply(lambda x: np.percentile(x, 10)).values\n",
    "desc_stat.loc['20th percentile'] = df.groupby('rank')['salary'].apply(lambda x: np.percentile(x, 20)).values\n",
    "desc_stat.loc['30th percentile'] = df.groupby('rank')['salary'].apply(lambda x: np.percentile(x, 30)).values\n",
    "desc_stat.loc['40th percentile'] = df.groupby('rank')['salary'].apply(lambda x: np.percentile(x, 40)).values\n",
    "desc_stat.loc['50th percentile'] = df.groupby('rank')['salary'].apply(lambda x: np.percentile(x, 50)).values\n",
    "desc_stat.loc['60th percentile'] = df.groupby('rank')['salary'].apply(lambda x: np.percentile(x, 60)).values\n",
    "desc_stat.loc['70th percentile'] = df.groupby('rank')['salary'].apply(lambda x: np.percentile(x, 70)).values\n",
    "desc_stat.loc['80th percentile'] = df.groupby('rank')['salary'].apply(lambda x: np.percentile(x, 80)).values\n",
    "desc_stat.loc['90th percentile'] = df.groupby('rank')['salary'].apply(lambda x: np.percentile(x, 90)).values\n",
    "\n",
    "print('Descriptive Statistics')\n",
    "print(desc_stat.transpose)\n"
   ]
  },
  {
   "cell_type": "code",
   "execution_count": null,
   "metadata": {},
   "outputs": [],
   "source": []
  }
 ],
 "metadata": {
  "kernelspec": {
   "display_name": "Python 3 (ipykernel)",
   "language": "python",
   "name": "python3"
  },
  "language_info": {
   "codemirror_mode": {
    "name": "ipython",
    "version": 3
   },
   "file_extension": ".py",
   "mimetype": "text/x-python",
   "name": "python",
   "nbconvert_exporter": "python",
   "pygments_lexer": "ipython3",
   "version": "3.9.13"
  }
 },
 "nbformat": 4,
 "nbformat_minor": 2
}
